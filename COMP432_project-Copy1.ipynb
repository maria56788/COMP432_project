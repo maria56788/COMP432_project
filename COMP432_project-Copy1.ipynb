{
 "cells": [
  {
   "cell_type": "code",
   "execution_count": 1,
   "id": "89407e91",
   "metadata": {},
   "outputs": [],
   "source": [
    "import torch\n",
    "import torchvision\n",
    "import torchvision.transforms as transforms\n",
    "import torch \n",
    "from torch.utils.data import Dataset, Subset\n",
    "from torch.utils.data import random_split\n",
    "from PIL import Image\n",
    "import os\n",
    "import numpy as np\n",
    "save_dir = '/Users/jgold/Documents/GitHub/COMP432_project/dataset'"
   ]
  },
  {
   "cell_type": "code",
   "execution_count": 2,
   "id": "7fb4b26d",
   "metadata": {},
   "outputs": [],
   "source": [
    "transformation = transforms.Compose( [transforms.Resize((32,32)), \n",
    "                                          transforms.ToTensor(),\n",
    "                                          transforms.Normalize(mean=[0.5, 0.5, 0.5],\n",
    "                                          std=[0.5, 0.5, 0.5])])\n",
    "\n",
    "#change average sizes\n",
    "#grabbing dataset\n",
    "dataset = torchvision.datasets.ImageFolder('/Users/jgold/Documents/GitHub/COMP432_project/dataset', \n",
    "                                                transform=transformation)\n",
    "\n",
    "#randomly splitting for training and testing\n",
    "training_set, testing_set = random_split(dataset, [2494, 832])\n",
    "\n",
    "\n",
    "                                                \n",
    "train_loader = torch.utils.data.DataLoader(training_set, batch_size=100, shuffle=True, num_workers=2)\n",
    "test_loader = torch.utils.data.DataLoader(testing_set, batch_size=100, shuffle=True, num_workers=2)\n"
   ]
  },
  {
   "cell_type": "code",
   "execution_count": 3,
   "id": "d330d2e1",
   "metadata": {},
   "outputs": [],
   "source": [
    "import torch.nn as nn\n",
    "import torch.nn.functional as F\n",
    "import torch.utils.data as td\n",
    "\n",
    "\n",
    "#building neural network\n",
    "class CNN(nn.Module):\n",
    "    def __init__(self):\n",
    "        super(CNN, self).__init__()\n",
    "        self.conv_layer = nn.Sequential(\n",
    "        nn.Conv2d(in_channels=3, out_channels=32, kernel_size=3, padding=1),\n",
    "        nn.BatchNorm2d(32),\n",
    "        nn.LeakyReLU(inplace=True),\n",
    "        nn.Conv2d(in_channels=32, out_channels=32, kernel_size=3, padding=1),\n",
    "        nn.BatchNorm2d(32),\n",
    "        nn.LeakyReLU(inplace=True),\n",
    "        nn.MaxPool2d(kernel_size=2, stride=2),\n",
    "        nn.Conv2d(in_channels=32, out_channels=64, kernel_size=3, padding=1),\n",
    "        nn.BatchNorm2d(64),\n",
    "        nn.LeakyReLU(inplace=True),\n",
    "        nn.Conv2d(in_channels=64, out_channels=64, kernel_size=3, padding=1),\n",
    "        nn.BatchNorm2d(64),\n",
    "        nn.LeakyReLU(inplace=True),\n",
    "        nn.MaxPool2d(kernel_size=2, stride=2),\n",
    "    )\n",
    "        self.fc_layer = nn.Sequential(\n",
    "        nn.Dropout(p=0.1),\n",
    "        nn.Linear(8 * 8 * 64, 1000),\n",
    "        nn.ReLU(inplace=True),\n",
    "        nn.Linear(1000, 512),\n",
    "        nn.ReLU(inplace=True),\n",
    "        nn.Dropout(p=0.1),\n",
    "        nn.Linear(512, 10)\n",
    "    )\n",
    "    def forward(self, x):\n",
    "        # conv layers\n",
    "        x = self.conv_layer(x)\n",
    "        # flatten\n",
    "        x = x.view(x.size(0), -1)\n",
    "        # fc layer\n",
    "        x = self.fc_layer(x)\n",
    "        return x\n"
   ]
  },
  {
   "cell_type": "code",
   "execution_count": 4,
   "id": "740cefa4",
   "metadata": {},
   "outputs": [],
   "source": [
    "num_epochs = 2\n",
    "num_classes = 10\n",
    "learning_rate = 0.001\n"
   ]
  },
  {
   "cell_type": "code",
   "execution_count": 5,
   "id": "5ddfeea9",
   "metadata": {},
   "outputs": [],
   "source": [
    "#initializing CNN\n",
    "model = CNN()\n",
    "criterion = nn.CrossEntropyLoss()\n",
    "optimizer = torch.optim.Adam(model.parameters(), lr=learning_rate)"
   ]
  },
  {
   "cell_type": "code",
   "execution_count": 6,
   "id": "c234cbcb",
   "metadata": {},
   "outputs": [
    {
     "name": "stdout",
     "output_type": "stream",
     "text": [
      "Epoch [1/2], Step [25/25], Loss: 1.7046, Accuracy: 30.85%\n",
      "Epoch [2/2], Step [25/25], Loss: 1.5433, Accuracy: 39.36%\n"
     ]
    }
   ],
   "source": [
    "#training the model\n",
    "total_step = len(train_loader)\n",
    "loss_list = []\n",
    "acc_list = []\n",
    "for epoch in range(num_epochs):\n",
    "    for i, (images, labels) in enumerate(train_loader):\n",
    "        # Forward pass\n",
    "        outputs = model(images)\n",
    "        loss = criterion(outputs, labels)\n",
    "        loss_list.append(loss.item())\n",
    "        # Backprop and optimisation\n",
    "        optimizer.zero_grad()\n",
    "        loss.backward()\n",
    "        optimizer.step()\n",
    "        # Train accuracy\n",
    "        total = labels.size(0)\n",
    "        _, predicted = torch.max(outputs.data, 1)\n",
    "        correct = (predicted == labels).sum().item()\n",
    "        acc_list.append(correct / total)\n",
    "    print('Epoch [{}/{}], Step [{}/{}], Loss: {:.4f}, Accuracy: {:.2f}%'\n",
    "        .format(epoch + 1, num_epochs, i + 1, total_step, loss.item(),\n",
    "        (correct / total) * 100))"
   ]
  },
  {
   "cell_type": "code",
   "execution_count": 7,
   "id": "4c004793",
   "metadata": {},
   "outputs": [],
   "source": [
    "#Saving Model\n",
    "# path = r\"/Users/jgold/Documents/GitHub/Artifical-Intelligence-Project/Models/Model2.pt\"\n",
    "\n",
    "# torch.save(model.state_dict(), path)"
   ]
  },
  {
   "cell_type": "code",
   "execution_count": 8,
   "id": "abc6ce25",
   "metadata": {},
   "outputs": [
    {
     "name": "stdout",
     "output_type": "stream",
     "text": [
      "Test Accuracy of the model on the 600 test images: 44.0 %\n",
      "Test Accuracy of the model on the 600 test images: 44.5 %\n",
      "Test Accuracy of the model on the 600 test images: 41.333333333333336 %\n",
      "Test Accuracy of the model on the 600 test images: 41.25 %\n",
      "Test Accuracy of the model on the 600 test images: 41.0 %\n",
      "Test Accuracy of the model on the 600 test images: 41.66666666666667 %\n",
      "Test Accuracy of the model on the 600 test images: 41.85714285714286 %\n",
      "Test Accuracy of the model on the 600 test images: 41.5 %\n",
      "Test Accuracy of the model on the 600 test images: 41.34615384615385 %\n"
     ]
    }
   ],
   "source": [
    "#testing the model after it has beeen trained\n",
    "model.eval()\n",
    "with torch.no_grad():\n",
    "    correct = 0\n",
    "    total = 0\n",
    "    for images, labels in test_loader:\n",
    "        outputs = model(images)\n",
    "        _, predicted = torch.max(outputs.data, 1)\n",
    "        total += labels.size(0)\n",
    "        correct += (predicted == labels).sum().item()\n",
    "        print('Test Accuracy of the model on the 600 test images: {} %'\n",
    "          .format((correct / total) * 100))"
   ]
  },
  {
   "cell_type": "code",
   "execution_count": 9,
   "id": "97cb7e81",
   "metadata": {},
   "outputs": [
    {
     "name": "stdout",
     "output_type": "stream",
     "text": [
      "Time to evaluate our data.\n",
      "First will be the training data.\n"
     ]
    },
    {
     "data": {
      "image/png": "[encoded data removed]",
      "text/plain": [
       "<Figure size 432x288 with 2 Axes>"
      ]
     },
     "metadata": {
      "needs_background": "light"
     },
     "output_type": "display_data"
    },
    {
     "name": "stdout",
     "output_type": "stream",
     "text": [
      "              precision    recall  f1-score   support\n",
      "\n",
      "           0       0.17      0.57      0.26        69\n",
      "           1       0.46      0.45      0.45       256\n",
      "           2       0.22      0.39      0.28       142\n",
      "           3       0.83      0.50      0.62       434\n",
      "           4       0.75      0.40      0.52       509\n",
      "           5       0.48      0.40      0.44       308\n",
      "           6       0.27      0.68      0.38        91\n",
      "           7       0.58      0.42      0.48       341\n",
      "           8       0.23      0.51      0.32       109\n",
      "           9       0.41      0.43      0.42       235\n",
      "\n",
      "    accuracy                           0.45      2494\n",
      "   macro avg       0.44      0.47      0.42      2494\n",
      "weighted avg       0.56      0.45      0.47      2494\n",
      "\n"
     ]
    }
   ],
   "source": [
    "import matplotlib.pyplot as plt\n",
    "import numpy as np\n",
    "from sklearn.metrics import plot_confusion_matrix\n",
    "from sklearn.metrics import confusion_matrix\n",
    "from sklearn.metrics import classification_report\n",
    "import seaborn as sns\n",
    "\n",
    "print(\"Time to evaluate our data.\")\n",
    "print(\"First will be the training data.\")\n",
    "\n",
    "#building Confusion Matrix as well as getting accuracy, predictions and F1 score for train model\n",
    "model.eval()\n",
    "prediction_list = []\n",
    "accurate_list = []\n",
    "with torch.no_grad():\n",
    "    for images, labels in train_loader:\n",
    "        outputs = model(images)\n",
    "        _, predicted = torch.max(model(images), 1)\n",
    "        prediction_list.extend(predicted.detach().cpu().numpy())\n",
    "        accurate_list.extend(labels.detach().cpu().numpy())\n",
    "  \n",
    "  \n",
    "confusion_matrix_data = confusion_matrix(accurate_list, prediction_list)\n",
    "confusionMatrix = sns.heatmap(confusion_matrix_data, annot=True, fmt='g' )\n",
    "confusionMatrix.set_title('Confusion Matrix');\n",
    "confusionMatrix.set_xlabel('Predicted Categories')\n",
    "confusionMatrix.set_ylabel('Actual Categories');\n",
    "confusionMatrix.xaxis.set_ticklabels(['Apple','Avocado','Banana','cherry','kiwi','mango','orange','pineapple','strawberry','watermelon'])\n",
    "confusionMatrix.yaxis.set_ticklabels(['Apple','Avocado','Banana','cherry','kiwi','mango','orange','pineapple','strawberry','watermelon'])\n",
    "\n",
    "  \n",
    "plt.show()\n",
    "\n",
    "#printing Accuracy, Prediction and F1 score for training model\n",
    "print(classification_report(prediction_list, accurate_list))"
   ]
  },
  {
   "cell_type": "code",
   "execution_count": 10,
   "id": "2e7f1935",
   "metadata": {
    "scrolled": true
   },
   "outputs": [
    {
     "name": "stdout",
     "output_type": "stream",
     "text": [
      "Now to evaluate the testing data.\n"
     ]
    },
    {
     "data": {
      "image/png": "[encoded data removed]",
      "text/plain": [
       "<Figure size 432x288 with 2 Axes>"
      ]
     },
     "metadata": {
      "needs_background": "light"
     },
     "output_type": "display_data"
    },
    {
     "name": "stdout",
     "output_type": "stream",
     "text": [
      "              precision    recall  f1-score   support\n",
      "\n",
      "           0       0.11      0.43      0.18        23\n",
      "           1       0.39      0.42      0.41        78\n",
      "           2       0.21      0.41      0.28        41\n",
      "           3       0.79      0.41      0.54       147\n",
      "           4       0.73      0.42      0.53       153\n",
      "           5       0.45      0.23      0.31       107\n",
      "           6       0.25      0.67      0.37        36\n",
      "           7       0.57      0.44      0.50       116\n",
      "           8       0.26      0.64      0.37        36\n",
      "           9       0.41      0.39      0.40        95\n",
      "\n",
      "    accuracy                           0.41       832\n",
      "   macro avg       0.42      0.45      0.39       832\n",
      "weighted avg       0.53      0.41      0.44       832\n",
      "\n"
     ]
    }
   ],
   "source": [
    "#building Confusion Matrix as well as getting accuracy, predictions and F1 score for test model\n",
    "\n",
    "print(\"Now to evaluate the testing data.\")\n",
    "model.eval()\n",
    "prediction_list = []\n",
    "accurate_list = []\n",
    "with torch.no_grad():\n",
    "    for images, labels in test_loader:\n",
    "        outputs = model(images)\n",
    "        _, predicted = torch.max(model(images), 1)\n",
    "        prediction_list.extend(predicted.detach().cpu().numpy())\n",
    "        accurate_list.extend(labels.detach().cpu().numpy())\n",
    "  \n",
    "  \n",
    "confusion_matrix_data = confusion_matrix(accurate_list, prediction_list)\n",
    "confusionMatrix = sns.heatmap(confusion_matrix_data, annot=True, fmt='g' )\n",
    "confusionMatrix.set_title('Confusion Matrix');\n",
    "confusionMatrix.set_xlabel('Predicted Categories')\n",
    "confusionMatrix.set_ylabel('Actual Categories');\n",
    "confusionMatrix.xaxis.set_ticklabels(['Apple','Avocado','Banana','cherry','kiwi','mango','orange','pineapple','strawberry','watermelon'])\n",
    "confusionMatrix.yaxis.set_ticklabels(['Apple','Avocado','Banana','cherry','kiwi','mango','orange','pineapple','strawberry','watermelon'])\n",
    "\n",
    "  \n",
    "plt.show()\n",
    "\n",
    "#printing Accuracy, Prediction and F1 score for testing model\n",
    "print(classification_report(prediction_list, accurate_list))"
   ]
  },
  {
   "cell_type": "code",
   "execution_count": 11,
   "id": "5d2866e2",
   "metadata": {},
   "outputs": [
    {
     "ename": "FileNotFoundError",
     "evalue": "[WinError 3] The system cannot find the path specified: '/Users/jgold/Documents/GitHub/Artifical-Intelligence-Project/BiasDataset/Adult'",
     "output_type": "error",
     "traceback": [
      "\u001b[1;31m---------------------------------------------------------------------------\u001b[0m",
      "\u001b[1;31mFileNotFoundError\u001b[0m                         Traceback (most recent call last)",
      "Input \u001b[1;32mIn [11]\u001b[0m, in \u001b[0;36m<cell line: 1>\u001b[1;34m()\u001b[0m\n\u001b[1;32m----> 1\u001b[0m bias_dataset_adult \u001b[38;5;241m=\u001b[39m \u001b[43mtorchvision\u001b[49m\u001b[38;5;241;43m.\u001b[39;49m\u001b[43mdatasets\u001b[49m\u001b[38;5;241;43m.\u001b[39;49m\u001b[43mImageFolder\u001b[49m\u001b[43m(\u001b[49m\u001b[38;5;124;43m'\u001b[39;49m\u001b[38;5;124;43m/Users/jgold/Documents/GitHub/Artifical-Intelligence-Project/BiasDataset/Adult\u001b[39;49m\u001b[38;5;124;43m'\u001b[39;49m\u001b[43m,\u001b[49m\u001b[43m \u001b[49m\n\u001b[0;32m      2\u001b[0m \u001b[43m                                                \u001b[49m\u001b[43mtransform\u001b[49m\u001b[38;5;241;43m=\u001b[39;49m\u001b[43mtransformation\u001b[49m\u001b[43m)\u001b[49m\n\u001b[0;32m      4\u001b[0m bias_loader_adult \u001b[38;5;241m=\u001b[39m torch\u001b[38;5;241m.\u001b[39mutils\u001b[38;5;241m.\u001b[39mdata\u001b[38;5;241m.\u001b[39mDataLoader(bias_dataset_adult, batch_size\u001b[38;5;241m=\u001b[39m\u001b[38;5;241m100\u001b[39m, shuffle\u001b[38;5;241m=\u001b[39m\u001b[38;5;28;01mTrue\u001b[39;00m, num_workers\u001b[38;5;241m=\u001b[39m\u001b[38;5;241m2\u001b[39m)\n",
      "File \u001b[1;32m~\\anaconda3\\lib\\site-packages\\torchvision\\datasets\\folder.py:310\u001b[0m, in \u001b[0;36mImageFolder.__init__\u001b[1;34m(self, root, transform, target_transform, loader, is_valid_file)\u001b[0m\n\u001b[0;32m    302\u001b[0m \u001b[38;5;28;01mdef\u001b[39;00m \u001b[38;5;21m__init__\u001b[39m(\n\u001b[0;32m    303\u001b[0m     \u001b[38;5;28mself\u001b[39m,\n\u001b[0;32m    304\u001b[0m     root: \u001b[38;5;28mstr\u001b[39m,\n\u001b[1;32m   (...)\u001b[0m\n\u001b[0;32m    308\u001b[0m     is_valid_file: Optional[Callable[[\u001b[38;5;28mstr\u001b[39m], \u001b[38;5;28mbool\u001b[39m]] \u001b[38;5;241m=\u001b[39m \u001b[38;5;28;01mNone\u001b[39;00m,\n\u001b[0;32m    309\u001b[0m ):\n\u001b[1;32m--> 310\u001b[0m     \u001b[38;5;28;43msuper\u001b[39;49m\u001b[43m(\u001b[49m\u001b[43m)\u001b[49m\u001b[38;5;241;43m.\u001b[39;49m\u001b[38;5;21;43m__init__\u001b[39;49m\u001b[43m(\u001b[49m\n\u001b[0;32m    311\u001b[0m \u001b[43m        \u001b[49m\u001b[43mroot\u001b[49m\u001b[43m,\u001b[49m\n\u001b[0;32m    312\u001b[0m \u001b[43m        \u001b[49m\u001b[43mloader\u001b[49m\u001b[43m,\u001b[49m\n\u001b[0;32m    313\u001b[0m \u001b[43m        \u001b[49m\u001b[43mIMG_EXTENSIONS\u001b[49m\u001b[43m \u001b[49m\u001b[38;5;28;43;01mif\u001b[39;49;00m\u001b[43m \u001b[49m\u001b[43mis_valid_file\u001b[49m\u001b[43m \u001b[49m\u001b[38;5;129;43;01mis\u001b[39;49;00m\u001b[43m \u001b[49m\u001b[38;5;28;43;01mNone\u001b[39;49;00m\u001b[43m \u001b[49m\u001b[38;5;28;43;01melse\u001b[39;49;00m\u001b[43m \u001b[49m\u001b[38;5;28;43;01mNone\u001b[39;49;00m\u001b[43m,\u001b[49m\n\u001b[0;32m    314\u001b[0m \u001b[43m        \u001b[49m\u001b[43mtransform\u001b[49m\u001b[38;5;241;43m=\u001b[39;49m\u001b[43mtransform\u001b[49m\u001b[43m,\u001b[49m\n\u001b[0;32m    315\u001b[0m \u001b[43m        \u001b[49m\u001b[43mtarget_transform\u001b[49m\u001b[38;5;241;43m=\u001b[39;49m\u001b[43mtarget_transform\u001b[49m\u001b[43m,\u001b[49m\n\u001b[0;32m    316\u001b[0m \u001b[43m        \u001b[49m\u001b[43mis_valid_file\u001b[49m\u001b[38;5;241;43m=\u001b[39;49m\u001b[43mis_valid_file\u001b[49m\u001b[43m,\u001b[49m\n\u001b[0;32m    317\u001b[0m \u001b[43m    \u001b[49m\u001b[43m)\u001b[49m\n\u001b[0;32m    318\u001b[0m     \u001b[38;5;28mself\u001b[39m\u001b[38;5;241m.\u001b[39mimgs \u001b[38;5;241m=\u001b[39m \u001b[38;5;28mself\u001b[39m\u001b[38;5;241m.\u001b[39msamples\n",
      "File \u001b[1;32m~\\anaconda3\\lib\\site-packages\\torchvision\\datasets\\folder.py:145\u001b[0m, in \u001b[0;36mDatasetFolder.__init__\u001b[1;34m(self, root, loader, extensions, transform, target_transform, is_valid_file)\u001b[0m\n\u001b[0;32m    135\u001b[0m \u001b[38;5;28;01mdef\u001b[39;00m \u001b[38;5;21m__init__\u001b[39m(\n\u001b[0;32m    136\u001b[0m     \u001b[38;5;28mself\u001b[39m,\n\u001b[0;32m    137\u001b[0m     root: \u001b[38;5;28mstr\u001b[39m,\n\u001b[1;32m   (...)\u001b[0m\n\u001b[0;32m    142\u001b[0m     is_valid_file: Optional[Callable[[\u001b[38;5;28mstr\u001b[39m], \u001b[38;5;28mbool\u001b[39m]] \u001b[38;5;241m=\u001b[39m \u001b[38;5;28;01mNone\u001b[39;00m,\n\u001b[0;32m    143\u001b[0m ) \u001b[38;5;241m-\u001b[39m\u001b[38;5;241m>\u001b[39m \u001b[38;5;28;01mNone\u001b[39;00m:\n\u001b[0;32m    144\u001b[0m     \u001b[38;5;28msuper\u001b[39m()\u001b[38;5;241m.\u001b[39m\u001b[38;5;21m__init__\u001b[39m(root, transform\u001b[38;5;241m=\u001b[39mtransform, target_transform\u001b[38;5;241m=\u001b[39mtarget_transform)\n\u001b[1;32m--> 145\u001b[0m     classes, class_to_idx \u001b[38;5;241m=\u001b[39m \u001b[38;5;28;43mself\u001b[39;49m\u001b[38;5;241;43m.\u001b[39;49m\u001b[43mfind_classes\u001b[49m\u001b[43m(\u001b[49m\u001b[38;5;28;43mself\u001b[39;49m\u001b[38;5;241;43m.\u001b[39;49m\u001b[43mroot\u001b[49m\u001b[43m)\u001b[49m\n\u001b[0;32m    146\u001b[0m     samples \u001b[38;5;241m=\u001b[39m \u001b[38;5;28mself\u001b[39m\u001b[38;5;241m.\u001b[39mmake_dataset(\u001b[38;5;28mself\u001b[39m\u001b[38;5;241m.\u001b[39mroot, class_to_idx, extensions, is_valid_file)\n\u001b[0;32m    148\u001b[0m     \u001b[38;5;28mself\u001b[39m\u001b[38;5;241m.\u001b[39mloader \u001b[38;5;241m=\u001b[39m loader\n",
      "File \u001b[1;32m~\\anaconda3\\lib\\site-packages\\torchvision\\datasets\\folder.py:219\u001b[0m, in \u001b[0;36mDatasetFolder.find_classes\u001b[1;34m(self, directory)\u001b[0m\n\u001b[0;32m    192\u001b[0m \u001b[38;5;28;01mdef\u001b[39;00m \u001b[38;5;21mfind_classes\u001b[39m(\u001b[38;5;28mself\u001b[39m, directory: \u001b[38;5;28mstr\u001b[39m) \u001b[38;5;241m-\u001b[39m\u001b[38;5;241m>\u001b[39m Tuple[List[\u001b[38;5;28mstr\u001b[39m], Dict[\u001b[38;5;28mstr\u001b[39m, \u001b[38;5;28mint\u001b[39m]]:\n\u001b[0;32m    193\u001b[0m     \u001b[38;5;124;03m\"\"\"Find the class folders in a dataset structured as follows::\u001b[39;00m\n\u001b[0;32m    194\u001b[0m \n\u001b[0;32m    195\u001b[0m \u001b[38;5;124;03m        directory/\u001b[39;00m\n\u001b[1;32m   (...)\u001b[0m\n\u001b[0;32m    217\u001b[0m \u001b[38;5;124;03m        (Tuple[List[str], Dict[str, int]]): List of all classes and dictionary mapping each class to an index.\u001b[39;00m\n\u001b[0;32m    218\u001b[0m \u001b[38;5;124;03m    \"\"\"\u001b[39;00m\n\u001b[1;32m--> 219\u001b[0m     \u001b[38;5;28;01mreturn\u001b[39;00m \u001b[43mfind_classes\u001b[49m\u001b[43m(\u001b[49m\u001b[43mdirectory\u001b[49m\u001b[43m)\u001b[49m\n",
      "File \u001b[1;32m~\\anaconda3\\lib\\site-packages\\torchvision\\datasets\\folder.py:41\u001b[0m, in \u001b[0;36mfind_classes\u001b[1;34m(directory)\u001b[0m\n\u001b[0;32m     36\u001b[0m \u001b[38;5;28;01mdef\u001b[39;00m \u001b[38;5;21mfind_classes\u001b[39m(directory: \u001b[38;5;28mstr\u001b[39m) \u001b[38;5;241m-\u001b[39m\u001b[38;5;241m>\u001b[39m Tuple[List[\u001b[38;5;28mstr\u001b[39m], Dict[\u001b[38;5;28mstr\u001b[39m, \u001b[38;5;28mint\u001b[39m]]:\n\u001b[0;32m     37\u001b[0m     \u001b[38;5;124;03m\"\"\"Finds the class folders in a dataset.\u001b[39;00m\n\u001b[0;32m     38\u001b[0m \n\u001b[0;32m     39\u001b[0m \u001b[38;5;124;03m    See :class:`DatasetFolder` for details.\u001b[39;00m\n\u001b[0;32m     40\u001b[0m \u001b[38;5;124;03m    \"\"\"\u001b[39;00m\n\u001b[1;32m---> 41\u001b[0m     classes \u001b[38;5;241m=\u001b[39m \u001b[38;5;28msorted\u001b[39m(entry\u001b[38;5;241m.\u001b[39mname \u001b[38;5;28;01mfor\u001b[39;00m entry \u001b[38;5;129;01min\u001b[39;00m \u001b[43mos\u001b[49m\u001b[38;5;241;43m.\u001b[39;49m\u001b[43mscandir\u001b[49m\u001b[43m(\u001b[49m\u001b[43mdirectory\u001b[49m\u001b[43m)\u001b[49m \u001b[38;5;28;01mif\u001b[39;00m entry\u001b[38;5;241m.\u001b[39mis_dir())\n\u001b[0;32m     42\u001b[0m     \u001b[38;5;28;01mif\u001b[39;00m \u001b[38;5;129;01mnot\u001b[39;00m classes:\n\u001b[0;32m     43\u001b[0m         \u001b[38;5;28;01mraise\u001b[39;00m \u001b[38;5;167;01mFileNotFoundError\u001b[39;00m(\u001b[38;5;124mf\u001b[39m\u001b[38;5;124m\"\u001b[39m\u001b[38;5;124mCouldn\u001b[39m\u001b[38;5;124m'\u001b[39m\u001b[38;5;124mt find any class folder in \u001b[39m\u001b[38;5;132;01m{\u001b[39;00mdirectory\u001b[38;5;132;01m}\u001b[39;00m\u001b[38;5;124m.\u001b[39m\u001b[38;5;124m\"\u001b[39m)\n",
      "\u001b[1;31mFileNotFoundError\u001b[0m: [WinError 3] The system cannot find the path specified: '/Users/jgold/Documents/GitHub/Artifical-Intelligence-Project/BiasDataset/Adult'"
     ]
    }
   ],
   "source": [
    "bias_dataset_adult = torchvision.datasets.ImageFolder('/Users/jgold/Documents/GitHub/Artifical-Intelligence-Project/BiasDataset/Adult', \n",
    "                                                transform=transformation)\n",
    "\n",
    "bias_loader_adult = torch.utils.data.DataLoader(bias_dataset_adult, batch_size=100, shuffle=True, num_workers=2)"
   ]
  },
  {
   "cell_type": "code",
   "execution_count": null,
   "id": "f15ae713",
   "metadata": {},
   "outputs": [],
   "source": [
    "model.eval()\n",
    "with torch.no_grad():\n",
    "    correct = 0\n",
    "    total = 0\n",
    "    for images, labels in bias_loader_adult :\n",
    "        outputs = model(images)\n",
    "        _, predicted = torch.max(outputs.data, 1)\n",
    "        total += labels.size(0)\n",
    "        correct += (predicted == labels).sum().item()\n",
    "        print('Test Accuracy of the model on the 50 Adult images: {} %'\n",
    "          .format((correct / total) * 100))"
   ]
  },
  {
   "cell_type": "code",
   "execution_count": null,
   "id": "9db45c24",
   "metadata": {},
   "outputs": [],
   "source": [
    "print(\"Now to evaluate the Adult data.\")\n",
    "model.eval()\n",
    "prediction_list = []\n",
    "accurate_list = []\n",
    "with torch.no_grad():\n",
    "    for images, labels in bias_loader_adult:\n",
    "        outputs = model(images)\n",
    "        _, predicted = torch.max(model(images), 1)\n",
    "        prediction_list.extend(predicted.detach().cpu().numpy())\n",
    "        accurate_list.extend(labels.detach().cpu().numpy())\n",
    "  \n",
    "  \n",
    "confusion_matrix_data = confusion_matrix(accurate_list, prediction_list)\n",
    "confusionMatrix = sns.heatmap(confusion_matrix_data, annot=True, fmt='g' )\n",
    "confusionMatrix.set_title('Confusion Matrix');\n",
    "confusionMatrix.set_xlabel('Predicted Categories')\n",
    "confusionMatrix.set_ylabel('Actual Categories');\n",
    "confusionMatrix.xaxis.set_ticklabels(['Cloth Mask','N95','No Mask','Surgical Mask'])\n",
    "confusionMatrix.yaxis.set_ticklabels(['Cloth Mask','N95','No Mask','Surgical Mask'])\n",
    "\n",
    "  \n",
    "plt.show()\n",
    "\n",
    "#printing Accuracy, Prediction and F1 score for testing model\n",
    "print(classification_report(prediction_list, accurate_list))"
   ]
  },
  {
   "cell_type": "code",
   "execution_count": null,
   "id": "d4ea9015",
   "metadata": {},
   "outputs": [],
   "source": [
    "bias_dataset_child = torchvision.datasets.ImageFolder('/Users/jgold/Documents/GitHub/Artifical-Intelligence-Project/BiasDataset/Child', \n",
    "                                                transform=transformation)\n",
    "\n",
    "bias_loader_child = torch.utils.data.DataLoader(bias_dataset_child, batch_size=100, shuffle=True, num_workers=2)"
   ]
  },
  {
   "cell_type": "code",
   "execution_count": null,
   "id": "cd6eadbc",
   "metadata": {},
   "outputs": [],
   "source": [
    "model.eval()\n",
    "with torch.no_grad():\n",
    "    correct = 0\n",
    "    total = 0\n",
    "    for images, labels in bias_loader_child :\n",
    "        outputs = model(images)\n",
    "        _, predicted = torch.max(outputs.data, 1)\n",
    "        total += labels.size(0)\n",
    "        correct += (predicted == labels).sum().item()\n",
    "        print('Test Accuracy of the model on the 50 Child images: {} %'\n",
    "          .format((correct / total) * 100))"
   ]
  },
  {
   "cell_type": "code",
   "execution_count": null,
   "id": "77187e86",
   "metadata": {},
   "outputs": [],
   "source": [
    "print(\"Now to evaluate the child data.\")\n",
    "model.eval()\n",
    "prediction_list = []\n",
    "accurate_list = []\n",
    "with torch.no_grad():\n",
    "    for images, labels in bias_loader_child:\n",
    "        outputs = model(images)\n",
    "        _, predicted = torch.max(model(images), 1)\n",
    "        prediction_list.extend(predicted.detach().cpu().numpy())\n",
    "        accurate_list.extend(labels.detach().cpu().numpy())\n",
    "  \n",
    "  \n",
    "confusion_matrix_data = confusion_matrix(accurate_list, prediction_list)\n",
    "confusionMatrix = sns.heatmap(confusion_matrix_data, annot=True, fmt='g' )\n",
    "confusionMatrix.set_title('Confusion Matrix');\n",
    "confusionMatrix.set_xlabel('Predicted Categories')\n",
    "confusionMatrix.set_ylabel('Actual Categories');\n",
    "confusionMatrix.xaxis.set_ticklabels(['Cloth Mask','N95','No Mask','Surgical Mask'])\n",
    "confusionMatrix.yaxis.set_ticklabels(['Cloth Mask','N95','No Mask','Surgical Mask'])\n",
    "\n",
    "  \n",
    "plt.show()\n",
    "\n",
    "#printing Accuracy, Prediction and F1 score for testing model\n",
    "print(classification_report(prediction_list, accurate_list))"
   ]
  },
  {
   "cell_type": "code",
   "execution_count": null,
   "id": "10f155b1",
   "metadata": {},
   "outputs": [],
   "source": [
    "bias_dataset_female = torchvision.datasets.ImageFolder('/Users/jgold/Documents/GitHub/Artifical-Intelligence-Project/BiasDataset/Female', \n",
    "                                                transform=transformation)\n",
    "\n",
    "bias_loader_female = torch.utils.data.DataLoader(bias_dataset_female, batch_size=100, shuffle=True, num_workers=2)"
   ]
  },
  {
   "cell_type": "code",
   "execution_count": null,
   "id": "f597d3ea",
   "metadata": {},
   "outputs": [],
   "source": [
    "model.eval()\n",
    "with torch.no_grad():\n",
    "    correct = 0\n",
    "    total = 0\n",
    "    for images, labels in bias_loader_female :\n",
    "        outputs = model(images)\n",
    "        _, predicted = torch.max(outputs.data, 1)\n",
    "        total += labels.size(0)\n",
    "        correct += (predicted == labels).sum().item()\n",
    "        print('Test Accuracy of the model on the 50 female images: {} %'\n",
    "          .format((correct / total) * 100))"
   ]
  },
  {
   "cell_type": "code",
   "execution_count": null,
   "id": "a3463985",
   "metadata": {},
   "outputs": [],
   "source": [
    "print(\"Now to evaluate the Female data.\")\n",
    "model.eval()\n",
    "prediction_list = []\n",
    "accurate_list = []\n",
    "with torch.no_grad():\n",
    "    for images, labels in bias_loader_female:\n",
    "        outputs = model(images)\n",
    "        _, predicted = torch.max(model(images), 1)\n",
    "        prediction_list.extend(predicted.detach().cpu().numpy())\n",
    "        accurate_list.extend(labels.detach().cpu().numpy())\n",
    "  \n",
    "  \n",
    "confusion_matrix_data = confusion_matrix(accurate_list, prediction_list)\n",
    "confusionMatrix = sns.heatmap(confusion_matrix_data, annot=True, fmt='g' )\n",
    "confusionMatrix.set_title('Confusion Matrix');\n",
    "confusionMatrix.set_xlabel('Predicted Categories')\n",
    "confusionMatrix.set_ylabel('Actual Categories');\n",
    "confusionMatrix.xaxis.set_ticklabels(['Cloth Mask','N95','No Mask','Surgical Mask'])\n",
    "confusionMatrix.yaxis.set_ticklabels(['Cloth Mask','N95','No Mask','Surgical Mask'])\n",
    "\n",
    "  \n",
    "plt.show()\n",
    "\n",
    "#printing Accuracy, Prediction and F1 score for testing model\n",
    "print(classification_report(prediction_list, accurate_list))"
   ]
  },
  {
   "cell_type": "code",
   "execution_count": null,
   "id": "58edfb94",
   "metadata": {},
   "outputs": [],
   "source": [
    "bias_dataset_male = torchvision.datasets.ImageFolder('/Users/jgold/Documents/GitHub/Artifical-Intelligence-Project/BiasDataset/Male', \n",
    "                                                transform=transformation)\n",
    "\n",
    "bias_loader_male = torch.utils.data.DataLoader(bias_dataset_male, batch_size=100, shuffle=True, num_workers=2)"
   ]
  },
  {
   "cell_type": "code",
   "execution_count": null,
   "id": "069a9365",
   "metadata": {},
   "outputs": [],
   "source": [
    "model.eval()\n",
    "with torch.no_grad():\n",
    "    correct = 0\n",
    "    total = 0\n",
    "    for images, labels in bias_loader_male :\n",
    "        outputs = model(images)\n",
    "        _, predicted = torch.max(outputs.data, 1)\n",
    "        total += labels.size(0)\n",
    "        correct += (predicted == labels).sum().item()\n",
    "        print('Test Accuracy of the model on the 50 male images: {} %'\n",
    "          .format((correct / total) * 100))"
   ]
  },
  {
   "cell_type": "code",
   "execution_count": null,
   "id": "401b83e6",
   "metadata": {
    "scrolled": true
   },
   "outputs": [],
   "source": [
    "print(\"Now to evaluate the Male data.\")\n",
    "model.eval()\n",
    "prediction_list = []\n",
    "accurate_list = []\n",
    "with torch.no_grad():\n",
    "    for images, labels in bias_loader_male:\n",
    "        outputs = model(images)\n",
    "        _, predicted = torch.max(model(images), 1)\n",
    "        prediction_list.extend(predicted.detach().cpu().numpy())\n",
    "        accurate_list.extend(labels.detach().cpu().numpy())\n",
    "  \n",
    "  \n",
    "confusion_matrix_data = confusion_matrix(accurate_list, prediction_list)\n",
    "confusionMatrix = sns.heatmap(confusion_matrix_data, annot=True, fmt='g' )\n",
    "confusionMatrix.set_title('Confusion Matrix');\n",
    "confusionMatrix.set_xlabel('Predicted Categories')\n",
    "confusionMatrix.set_ylabel('Actual Categories');\n",
    "confusionMatrix.xaxis.set_ticklabels(['Cloth Mask','N95','No Mask','Surgical Mask'])\n",
    "confusionMatrix.yaxis.set_ticklabels(['Cloth Mask','N95','No Mask','Surgical Mask'])\n",
    "\n",
    "  \n",
    "plt.show()\n",
    "\n",
    "#printing Accuracy, Prediction and F1 score for testing model\n",
    "print(classification_report(prediction_list, accurate_list))"
   ]
  },
  {
   "cell_type": "code",
   "execution_count": null,
   "id": "8df507dc",
   "metadata": {},
   "outputs": [],
   "source": []
  }
 ],
 "metadata": {
  "kernelspec": {
   "display_name": "Python 3",
   "language": "python",
   "name": "python3"
  },
  "language_info": {
   "codemirror_mode": {
    "name": "ipython",
    "version": 3
   },
   "file_extension": ".py",
   "mimetype": "text/x-python",
   "name": "python",
   "nbconvert_exporter": "python",
   "pygments_lexer": "ipython3",
   "version": "3.8.8"
  }
 },
 "nbformat": 4,
 "nbformat_minor": 5
}
